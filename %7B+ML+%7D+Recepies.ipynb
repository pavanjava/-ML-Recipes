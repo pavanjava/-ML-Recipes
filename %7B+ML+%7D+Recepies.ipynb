{
 "cells": [
  {
   "cell_type": "code",
   "execution_count": 12,
   "metadata": {
    "collapsed": false
   },
   "outputs": [
    {
     "name": "stdout",
     "output_type": "stream",
     "text": [
      "Apple\n"
     ]
    }
   ],
   "source": [
    "from sklearn import tree\n",
    "\n",
    "features = [[140 , 1],[120 , 1],[130 , 1],[138 , 1],[150 , 0],[162 , 0],[178 , 0],[170 , 0]]\n",
    "labels = [1,1,1,1,0,0,0,0]\n",
    "\n",
    "clf = tree.DecisionTreeClassifier()\n",
    "clf.fit(features,labels)\n",
    "\n",
    "predict_ = [[122,0]]\n",
    "if(clf.predict(predict_)[0] == 0):\n",
    "    print(\"Orange\")\n",
    "else:\n",
    "    print(\"Apple\")\n",
    "\n",
    "    "
   ]
  },
  {
   "cell_type": "code",
   "execution_count": 25,
   "metadata": {
    "collapsed": false
   },
   "outputs": [
    {
     "name": "stdout",
     "output_type": "stream",
     "text": [
      "[0 1 2]\n"
     ]
    }
   ],
   "source": [
    "from sklearn.datasets import load_iris\n",
    "\n",
    "iris_ = load_iris()\n",
    "\n",
    "from sklearn import tree\n",
    "import numpy as np\n",
    "\n",
    "test_idx = [0, 50, 100]\n",
    "\n",
    "#Training Data\n",
    "train_target = np.delete(iris_.target,test_idx)\n",
    "train_data = np.delete(iris_.data, test_idx,axis=0)\n",
    "\n",
    "#Testing Data\n",
    "test_target = iris_.target[test_idx]\n",
    "test_data = iris_.data[test_idx]\n",
    "\n",
    "clf = tree.DecisionTreeClassifier()\n",
    "clf.fit(train_data,train_target)\n",
    "\n",
    "\n",
    "print(clf.predict(test_data))\n",
    "    \n"
   ]
  },
  {
   "cell_type": "code",
   "execution_count": 1,
   "metadata": {
    "collapsed": false
   },
   "outputs": [
    {
     "data": {
      "image/png": "[encoded data removed]",
      "text/plain": [
       "<matplotlib.figure.Figure at 0x5f44c18>"
      ]
     },
     "metadata": {},
     "output_type": "display_data"
    }
   ],
   "source": [
    "import numpy as np\n",
    "import matplotlib.pyplot as plt\n",
    "\n",
    "greyhounds = 500\n",
    "labs =500\n",
    "\n",
    "grey_height = 28 + 4 * np.random.randn(greyhounds)\n",
    "lab_height = 24 + 4 * np.random.randn(labs)\n",
    "\n",
    "plt.hist([grey_height,lab_height],stacked=True,color=['r','b'])\n",
    "plt.show()"
   ]
  },
  {
   "cell_type": "code",
   "execution_count": 72,
   "metadata": {
    "collapsed": false
   },
   "outputs": [
    {
     "name": "stdout",
     "output_type": "stream",
     "text": [
      "[1]\n",
      "93.3333333333\n"
     ]
    }
   ],
   "source": [
    "from sklearn import datasets\n",
    "iris = datasets.load_iris()\n",
    "\n",
    "X_ = iris.data\n",
    "Y_= iris.target\n",
    "\n",
    "from sklearn.cross_validation import train_test_split\n",
    "\n",
    "X_train,X_test,Y_train,Y_test = train_test_split(X_,Y_,test_size = .5)\n",
    "\n",
    "#from sklearn import tree\n",
    "#clf = tree.DecisionTreeClassifier()\n",
    "\n",
    "from sklearn.neighbors import KNeighborsClassifier\n",
    "clf = KNeighborsClassifier()\n",
    "\n",
    "clf.fit(X_train,Y_train)\n",
    "\n",
    "#print(X_test)\n",
    "\n",
    "print(clf.predict([[6,2,4,1]]))\n",
    "\n",
    "from sklearn.metrics import accuracy_score\n",
    "print(accuracy_score(Y_test,clf.predict(X_test))*100)\n"
   ]
  }
 ],
 "metadata": {
  "anaconda-cloud": {},
  "kernelspec": {
   "display_name": "Python [default]",
   "language": "python",
   "name": "python3"
  },
  "language_info": {
   "codemirror_mode": {
    "name": "ipython",
    "version": 3
   },
   "file_extension": ".py",
   "mimetype": "text/x-python",
   "name": "python",
   "nbconvert_exporter": "python",
   "pygments_lexer": "ipython3",
   "version": "3.5.2"
  }
 },
 "nbformat": 4,
 "nbformat_minor": 2
}
