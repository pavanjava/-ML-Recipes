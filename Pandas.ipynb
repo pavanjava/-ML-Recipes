{
 "cells": [
  {
   "cell_type": "code",
   "execution_count": 7,
   "metadata": {
    "collapsed": false
   },
   "outputs": [
    {
     "name": "stdout",
     "output_type": "stream",
     "text": [
      "('Alcohol', 2010)\n",
      "1282\n",
      "('Alcohol', 2011)\n",
      "4272\n",
      "('Alcohol', 2012)\n",
      "4382\n",
      "('Alcohol', 2013)\n",
      "4272\n",
      "('Alcohol', 2014)\n",
      "4268\n",
      "('Alcohol', 2015)\n",
      "4441\n",
      "('Alcohol', 2016)\n",
      "4130\n",
      "('Arthritis', 2011)\n",
      "6963\n",
      "('Arthritis', 2012)\n",
      "5220\n",
      "('Arthritis', 2013)\n",
      "6958\n",
      "('Arthritis', 2014)\n",
      "5220\n",
      "('Arthritis', 2015)\n",
      "6958\n",
      "('Arthritis', 2016)\n",
      "5220\n",
      "('Asthma', 2010)\n",
      "2406\n",
      "('Asthma', 2011)\n",
      "5902\n",
      "('Asthma', 2012)\n",
      "5902\n",
      "('Asthma', 2013)\n",
      "7135\n",
      "('Asthma', 2014)\n",
      "8494\n",
      "('Asthma', 2015)\n",
      "4675\n",
      "('Asthma', 2016)\n",
      "4675\n",
      "('Cancer', 2008)\n",
      "2496\n",
      "('Cancer', 2009)\n",
      "2496\n",
      "('Cancer', 2010)\n",
      "14976\n",
      "('Cancer', 2012)\n",
      "2495\n",
      "('Cancer', 2013)\n",
      "1620\n",
      "('Cancer', 2014)\n",
      "2495\n",
      "('Cancer', 2015)\n",
      "2487\n",
      "('Cancer', 2016)\n",
      "2495\n",
      "('Cardiovascular Disease', 2010)\n",
      "8823\n",
      "('Cardiovascular Disease', 2011)\n",
      "14723\n",
      "('Cardiovascular Disease', 2012)\n",
      "10863\n",
      "('Cardiovascular Disease', 2013)\n",
      "15856\n",
      "('Cardiovascular Disease', 2014)\n",
      "13455\n",
      "('Cardiovascular Disease', 2015)\n",
      "8533\n",
      "('Cardiovascular Disease', 2016)\n",
      "3480\n",
      "('Chronic Kidney Disease', 2010)\n",
      "1435\n",
      "('Chronic Kidney Disease', 2011)\n",
      "2305\n",
      "('Chronic Kidney Disease', 2012)\n",
      "2305\n",
      "('Chronic Kidney Disease', 2013)\n",
      "2305\n",
      "('Chronic Kidney Disease', 2014)\n",
      "2305\n",
      "('Chronic Kidney Disease', 2015)\n",
      "870\n",
      "('Chronic Kidney Disease', 2016)\n",
      "870\n",
      "('Chronic Obstructive Pulmonary Disease', 2010)\n",
      "7410\n",
      "('Chronic Obstructive Pulmonary Disease', 2011)\n",
      "11910\n",
      "('Chronic Obstructive Pulmonary Disease', 2012)\n",
      "11910\n",
      "('Chronic Obstructive Pulmonary Disease', 2013)\n",
      "13908\n",
      "('Chronic Obstructive Pulmonary Disease', 2014)\n",
      "17118\n",
      "('Chronic Obstructive Pulmonary Disease', 2015)\n",
      "9456\n",
      "('Chronic Obstructive Pulmonary Disease', 2016)\n",
      "6956\n",
      "('Diabetes', 2009)\n",
      "55\n",
      "('Diabetes', 2010)\n",
      "3946\n",
      "('Diabetes', 2011)\n",
      "13219\n",
      "('Diabetes', 2012)\n",
      "12349\n",
      "('Diabetes', 2013)\n",
      "14407\n",
      "('Diabetes', 2014)\n",
      "14933\n",
      "('Diabetes', 2015)\n",
      "10765\n",
      "('Diabetes', 2016)\n",
      "9887\n",
      "('Disability', 2010)\n",
      "421\n",
      "('Disability', 2011)\n",
      "424\n",
      "('Disability', 2012)\n",
      "424\n",
      "('Disability', 2013)\n",
      "353\n",
      "('Disability', 2014)\n",
      "425\n",
      "('Disability', 2015)\n",
      "424\n",
      "('Immunization', 2011)\n",
      "870\n",
      "('Immunization', 2012)\n",
      "870\n",
      "('Immunization', 2013)\n",
      "614\n",
      "('Immunization', 2014)\n",
      "614\n",
      "('Immunization', 2015)\n",
      "870\n",
      "('Immunization', 2016)\n",
      "870\n",
      "('Mental Health', 2009)\n",
      "55\n",
      "('Mental Health', 2011)\n",
      "1195\n",
      "('Mental Health', 2012)\n",
      "760\n",
      "('Mental Health', 2013)\n",
      "1195\n",
      "('Mental Health', 2014)\n",
      "1195\n",
      "('Mental Health', 2015)\n",
      "1195\n",
      "('Mental Health', 2016)\n",
      "1195\n",
      "('Nutrition, Physical Activity, and Weight Status', 2008)\n",
      "108\n",
      "('Nutrition, Physical Activity, and Weight Status', 2010)\n",
      "164\n",
      "('Nutrition, Physical Activity, and Weight Status', 2011)\n",
      "4730\n",
      "('Nutrition, Physical Activity, and Weight Status', 2012)\n",
      "4025\n",
      "('Nutrition, Physical Activity, and Weight Status', 2013)\n",
      "8323\n",
      "('Nutrition, Physical Activity, and Weight Status', 2014)\n",
      "4079\n",
      "('Nutrition, Physical Activity, and Weight Status', 2015)\n",
      "7974\n",
      "('Nutrition, Physical Activity, and Weight Status', 2016)\n",
      "3914\n",
      "('Older Adults', 2010)\n",
      "1680\n",
      "('Older Adults', 2011)\n",
      "1680\n",
      "('Older Adults', 2012)\n",
      "3420\n",
      "('Older Adults', 2013)\n",
      "1680\n",
      "('Older Adults', 2014)\n",
      "3420\n",
      "('Older Adults', 2015)\n",
      "1680\n",
      "('Older Adults', 2016)\n",
      "1740\n",
      "('Oral Health', 2009)\n",
      "55\n",
      "('Oral Health', 2011)\n",
      "312\n",
      "('Oral Health', 2012)\n",
      "3590\n",
      "('Oral Health', 2013)\n",
      "55\n",
      "('Oral Health', 2014)\n",
      "3526\n",
      "('Oral Health', 2015)\n",
      "55\n",
      "('Oral Health', 2016)\n",
      "3480\n",
      "('Overarching Conditions', 2001)\n",
      "104\n",
      "('Overarching Conditions', 2009)\n",
      "55\n",
      "('Overarching Conditions', 2010)\n",
      "1756\n",
      "('Overarching Conditions', 2011)\n",
      "5886\n",
      "('Overarching Conditions', 2012)\n",
      "6809\n",
      "('Overarching Conditions', 2013)\n",
      "6811\n",
      "('Overarching Conditions', 2014)\n",
      "6755\n",
      "('Overarching Conditions', 2015)\n",
      "4656\n",
      "('Overarching Conditions', 2016)\n",
      "5000\n",
      "('Reproductive Health', 2009)\n",
      "55\n",
      "('Reproductive Health', 2011)\n",
      "380\n",
      "('Reproductive Health', 2012)\n",
      "325\n",
      "('Reproductive Health', 2013)\n",
      "325\n",
      "('Reproductive Health', 2014)\n",
      "325\n",
      "('Reproductive Health', 2015)\n",
      "325\n",
      "('Reproductive Health', 2016)\n",
      "325\n",
      "('Tobacco', 2007)\n",
      "55\n",
      "('Tobacco', 2011)\n",
      "4730\n",
      "('Tobacco', 2012)\n",
      "4730\n",
      "('Tobacco', 2013)\n",
      "5057\n",
      "('Tobacco', 2014)\n",
      "5002\n",
      "('Tobacco', 2015)\n",
      "4994\n",
      "('Tobacco', 2016)\n",
      "4675\n"
     ]
    }
   ],
   "source": [
    "# Prints the chronic disease data group by Topic & StartYear and their count\n",
    "import pandas as pd\n",
    "\n",
    "dicts = {}\n",
    "df = pd.read_csv(\"C:\\\\Pavans\\\\JetBrains-Pycharm\\\\Workspace\\\\Pandas\\\\Pandas-1\\\\datasets_practice\\\\dataset1.csv\", low_memory=False)\n",
    "grouped = df.groupby([\"Topic\",\"YearStart\"])\n",
    "for name, group in grouped:\n",
    "    print(name)\n",
    "    print(group[\"YearStart\"].count())\n",
    "    dicts[name] = group[\"YearStart\"].count()\n"
   ]
  },
  {
   "cell_type": "code",
   "execution_count": 14,
   "metadata": {
    "collapsed": false
   },
   "outputs": [
    {
     "data": {
      "image/png": "[encoded data removed]",
      "text/plain": [
       "<matplotlib.figure.Figure at 0x131986d8>"
      ]
     },
     "metadata": {},
     "output_type": "display_data"
    }
   ],
   "source": [
    "#plots the disease group by topic and year\n",
    "import matplotlib.pyplot as plt\n",
    "\n",
    "width = 12\n",
    "height = 5\n",
    "plt.figure(figsize=(width, height))\n",
    "\n",
    "plt.bar(range(len(dicts)), list(dicts.values()), align='center')\n",
    "#plt.xticks(range(len(dicts)), list(dicts.keys()))\n",
    "plt.show()"
   ]
  },
  {
   "cell_type": "code",
   "execution_count": 18,
   "metadata": {
    "collapsed": false
   },
   "outputs": [],
   "source": [
    "# Load phone usage data from csv file\n",
    "import pandas as pd\n",
    "import dateutil\n",
    "\n",
    "\n",
    "df = pd.read_csv(\"C:\\\\Pavans\\\\JetBrains-Pycharm\\\\Workspace\\\\Pandas\\\\Pandas-1\\\\datasets_practice\\\\phone_data.csv\", low_memory=False)\n",
    "# Convert date from string to date times\n",
    "df['date'] = df['date'].apply(dateutil.parser.parse, dayfirst=True)\n"
   ]
  },
  {
   "cell_type": "code",
   "execution_count": 21,
   "metadata": {
    "collapsed": false
   },
   "outputs": [
    {
     "data": {
      "text/plain": [
       "830"
      ]
     },
     "execution_count": 21,
     "metadata": {},
     "output_type": "execute_result"
    }
   ],
   "source": [
    "# How many rows the dataset\n",
    "df['item'].count()"
   ]
  },
  {
   "cell_type": "code",
   "execution_count": 22,
   "metadata": {
    "collapsed": false
   },
   "outputs": [
    {
     "data": {
      "text/plain": [
       "10528.0"
      ]
     },
     "execution_count": 22,
     "metadata": {},
     "output_type": "execute_result"
    }
   ],
   "source": [
    "# What was the longest phone call / data entry?\n",
    "df['duration'].max()"
   ]
  },
  {
   "cell_type": "code",
   "execution_count": 23,
   "metadata": {
    "collapsed": false
   },
   "outputs": [
    {
     "data": {
      "text/plain": [
       "92321.0"
      ]
     },
     "execution_count": 23,
     "metadata": {},
     "output_type": "execute_result"
    }
   ],
   "source": [
    "# How many seconds of phone calls are recorded in total?\n",
    "df['duration'][df['item'] == 'call'].sum()"
   ]
  },
  {
   "cell_type": "code",
   "execution_count": 25,
   "metadata": {
    "collapsed": false
   },
   "outputs": [
    {
     "data": {
      "text/plain": [
       "2014-11    230\n",
       "2015-01    205\n",
       "2014-12    157\n",
       "2015-02    137\n",
       "2015-03    101\n",
       "Name: month, dtype: int64"
      ]
     },
     "execution_count": 25,
     "metadata": {},
     "output_type": "execute_result"
    }
   ],
   "source": [
    "# How many entries are there for each month?\n",
    "df['month'].value_counts()"
   ]
  },
  {
   "cell_type": "code",
   "execution_count": 27,
   "metadata": {
    "collapsed": false
   },
   "outputs": [
    {
     "data": {
      "text/plain": [
       "9"
      ]
     },
     "execution_count": 27,
     "metadata": {},
     "output_type": "execute_result"
    }
   ],
   "source": [
    "# Number of non-null unique network entries\n",
    "df['network'].nunique()"
   ]
  },
  {
   "cell_type": "code",
   "execution_count": 32,
   "metadata": {
    "collapsed": false
   },
   "outputs": [
    {
     "data": {
      "text/html": [
       "<div>\n",
       "<table border=\"1\" class=\"dataframe\">\n",
       "  <thead>\n",
       "    <tr style=\"text-align: right;\">\n",
       "      <th></th>\n",
       "      <th>index</th>\n",
       "      <th>date</th>\n",
       "      <th>time</th>\n",
       "      <th>duration</th>\n",
       "      <th>item</th>\n",
       "      <th>network</th>\n",
       "      <th>network_type</th>\n",
       "    </tr>\n",
       "    <tr>\n",
       "      <th>month</th>\n",
       "      <th></th>\n",
       "      <th></th>\n",
       "      <th></th>\n",
       "      <th></th>\n",
       "      <th></th>\n",
       "      <th></th>\n",
       "      <th></th>\n",
       "    </tr>\n",
       "  </thead>\n",
       "  <tbody>\n",
       "    <tr>\n",
       "      <th>2014-11</th>\n",
       "      <td>0</td>\n",
       "      <td>2014-10-15</td>\n",
       "      <td>6:58</td>\n",
       "      <td>34.429</td>\n",
       "      <td>data</td>\n",
       "      <td>data</td>\n",
       "      <td>data</td>\n",
       "    </tr>\n",
       "    <tr>\n",
       "      <th>2014-12</th>\n",
       "      <td>228</td>\n",
       "      <td>2014-11-13</td>\n",
       "      <td>6:58</td>\n",
       "      <td>34.429</td>\n",
       "      <td>data</td>\n",
       "      <td>data</td>\n",
       "      <td>data</td>\n",
       "    </tr>\n",
       "    <tr>\n",
       "      <th>2015-01</th>\n",
       "      <td>381</td>\n",
       "      <td>2014-12-13</td>\n",
       "      <td>6:58</td>\n",
       "      <td>34.429</td>\n",
       "      <td>data</td>\n",
       "      <td>data</td>\n",
       "      <td>data</td>\n",
       "    </tr>\n",
       "    <tr>\n",
       "      <th>2015-02</th>\n",
       "      <td>577</td>\n",
       "      <td>2015-01-13</td>\n",
       "      <td>6:58</td>\n",
       "      <td>34.429</td>\n",
       "      <td>data</td>\n",
       "      <td>data</td>\n",
       "      <td>data</td>\n",
       "    </tr>\n",
       "    <tr>\n",
       "      <th>2015-03</th>\n",
       "      <td>729</td>\n",
       "      <td>2015-02-12</td>\n",
       "      <td>8:15:00</td>\n",
       "      <td>69.000</td>\n",
       "      <td>call</td>\n",
       "      <td>landline</td>\n",
       "      <td>landline</td>\n",
       "    </tr>\n",
       "  </tbody>\n",
       "</table>\n",
       "</div>"
      ],
      "text/plain": [
       "         index       date     time  duration  item   network network_type\n",
       "month                                                                    \n",
       "2014-11      0 2014-10-15     6:58    34.429  data      data         data\n",
       "2014-12    228 2014-11-13     6:58    34.429  data      data         data\n",
       "2015-01    381 2014-12-13     6:58    34.429  data      data         data\n",
       "2015-02    577 2015-01-13     6:58    34.429  data      data         data\n",
       "2015-03    729 2015-02-12  8:15:00    69.000  call  landline     landline"
      ]
     },
     "execution_count": 32,
     "metadata": {},
     "output_type": "execute_result"
    }
   ],
   "source": [
    "#summarizing the data frame using groupby\n",
    "df.groupby('month').first()"
   ]
  },
  {
   "cell_type": "code",
   "execution_count": 34,
   "metadata": {
    "collapsed": false
   },
   "outputs": [
    {
     "data": {
      "text/plain": [
       "month\n",
       "2014-11    26639.441\n",
       "2014-12    14641.870\n",
       "2015-01    18223.299\n",
       "2015-02    15522.299\n",
       "2015-03    22750.441\n",
       "Name: duration, dtype: float64"
      ]
     },
     "execution_count": 34,
     "metadata": {},
     "output_type": "execute_result"
    }
   ],
   "source": [
    "# Get the sum of the durations per month\n",
    "df.groupby('month')['duration'].sum()"
   ]
  },
  {
   "cell_type": "code",
   "execution_count": 37,
   "metadata": {
    "collapsed": false
   },
   "outputs": [
    {
     "data": {
      "text/plain": [
       "month\n",
       "2014-11    230\n",
       "2014-12    157\n",
       "2015-01    205\n",
       "2015-02    137\n",
       "2015-03    101\n",
       "Name: date, dtype: int64"
      ]
     },
     "execution_count": 37,
     "metadata": {},
     "output_type": "execute_result"
    }
   ],
   "source": [
    "# Get the number of dates / entries in each month\n",
    "df.groupby('month')['date'].count()"
   ]
  },
  {
   "cell_type": "code",
   "execution_count": 39,
   "metadata": {
    "collapsed": false
   },
   "outputs": [
    {
     "data": {
      "text/plain": [
       "network\n",
       "Meteor        7200.0\n",
       "Tesco        13828.0\n",
       "Three        36464.0\n",
       "Vodafone     14621.0\n",
       "landline     18433.0\n",
       "voicemail     1775.0\n",
       "Name: duration, dtype: float64"
      ]
     },
     "execution_count": 39,
     "metadata": {},
     "output_type": "execute_result"
    }
   ],
   "source": [
    "# What is the sum of durations, for calls only, to each network\n",
    "df[df['item'] == 'call'].groupby('network')['duration'].sum()"
   ]
  },
  {
   "cell_type": "code",
   "execution_count": 41,
   "metadata": {
    "collapsed": false
   },
   "outputs": [
    {
     "data": {
      "text/plain": [
       "month    item\n",
       "2014-11  call    107\n",
       "         data     29\n",
       "         sms      94\n",
       "2014-12  call     79\n",
       "         data     30\n",
       "         sms      48\n",
       "2015-01  call     88\n",
       "         data     31\n",
       "         sms      86\n",
       "2015-02  call     67\n",
       "         data     31\n",
       "         sms      39\n",
       "2015-03  call     47\n",
       "         data     29\n",
       "         sms      25\n",
       "Name: date, dtype: int64"
      ]
     },
     "execution_count": 41,
     "metadata": {},
     "output_type": "execute_result"
    }
   ],
   "source": [
    "# How many calls, sms, and data entries are in each month?\n",
    "df.groupby(['month', 'item'])['date'].count()"
   ]
  },
  {
   "cell_type": "code",
   "execution_count": 43,
   "metadata": {
    "collapsed": false
   },
   "outputs": [
    {
     "data": {
      "text/plain": [
       "month    network_type\n",
       "2014-11  data             29\n",
       "         landline          5\n",
       "         mobile          189\n",
       "         special           1\n",
       "         voicemail         6\n",
       "2014-12  data             30\n",
       "         landline          7\n",
       "         mobile          108\n",
       "         voicemail         8\n",
       "         world             4\n",
       "2015-01  data             31\n",
       "         landline         11\n",
       "         mobile          160\n",
       "         voicemail         3\n",
       "2015-02  data             31\n",
       "         landline          8\n",
       "         mobile           90\n",
       "         special           2\n",
       "         voicemail         6\n",
       "2015-03  data             29\n",
       "         landline         11\n",
       "         mobile           54\n",
       "         voicemail         4\n",
       "         world             3\n",
       "Name: date, dtype: int64"
      ]
     },
     "execution_count": 43,
     "metadata": {},
     "output_type": "execute_result"
    }
   ],
   "source": [
    "# How many calls, texts, and data are sent per month, split by network_type\n",
    "df.groupby(['month', 'network_type'])['date'].count()"
   ]
  },
  {
   "cell_type": "code",
   "execution_count": 46,
   "metadata": {
    "collapsed": false
   },
   "outputs": [
    {
     "data": {
      "text/html": [
       "<div>\n",
       "<table border=\"1\" class=\"dataframe\">\n",
       "  <thead>\n",
       "    <tr style=\"text-align: right;\">\n",
       "      <th></th>\n",
       "      <th>month</th>\n",
       "      <th>duration</th>\n",
       "    </tr>\n",
       "  </thead>\n",
       "  <tbody>\n",
       "    <tr>\n",
       "      <th>0</th>\n",
       "      <td>2014-11</td>\n",
       "      <td>26639.441</td>\n",
       "    </tr>\n",
       "    <tr>\n",
       "      <th>1</th>\n",
       "      <td>2014-12</td>\n",
       "      <td>14641.870</td>\n",
       "    </tr>\n",
       "    <tr>\n",
       "      <th>2</th>\n",
       "      <td>2015-01</td>\n",
       "      <td>18223.299</td>\n",
       "    </tr>\n",
       "    <tr>\n",
       "      <th>3</th>\n",
       "      <td>2015-02</td>\n",
       "      <td>15522.299</td>\n",
       "    </tr>\n",
       "    <tr>\n",
       "      <th>4</th>\n",
       "      <td>2015-03</td>\n",
       "      <td>22750.441</td>\n",
       "    </tr>\n",
       "  </tbody>\n",
       "</table>\n",
       "</div>"
      ],
      "text/plain": [
       "     month   duration\n",
       "0  2014-11  26639.441\n",
       "1  2014-12  14641.870\n",
       "2  2015-01  18223.299\n",
       "3  2015-02  15522.299\n",
       "4  2015-03  22750.441"
      ]
     },
     "execution_count": 46,
     "metadata": {},
     "output_type": "execute_result"
    }
   ],
   "source": [
    "df.groupby('month', as_index=False).agg({\"duration\": \"sum\"})"
   ]
  },
  {
   "cell_type": "code",
   "execution_count": 49,
   "metadata": {
    "collapsed": false
   },
   "outputs": [
    {
     "data": {
      "text/html": [
       "<div>\n",
       "<table border=\"1\" class=\"dataframe\">\n",
       "  <thead>\n",
       "    <tr style=\"text-align: right;\">\n",
       "      <th></th>\n",
       "      <th></th>\n",
       "      <th>duration</th>\n",
       "      <th>network_type</th>\n",
       "      <th>date</th>\n",
       "    </tr>\n",
       "    <tr>\n",
       "      <th>month</th>\n",
       "      <th>item</th>\n",
       "      <th></th>\n",
       "      <th></th>\n",
       "      <th></th>\n",
       "    </tr>\n",
       "  </thead>\n",
       "  <tbody>\n",
       "    <tr>\n",
       "      <th rowspan=\"3\" valign=\"top\">2014-11</th>\n",
       "      <th>call</th>\n",
       "      <td>25547.000</td>\n",
       "      <td>107</td>\n",
       "      <td>2014-10-15</td>\n",
       "    </tr>\n",
       "    <tr>\n",
       "      <th>data</th>\n",
       "      <td>998.441</td>\n",
       "      <td>29</td>\n",
       "      <td>2014-10-15</td>\n",
       "    </tr>\n",
       "    <tr>\n",
       "      <th>sms</th>\n",
       "      <td>94.000</td>\n",
       "      <td>94</td>\n",
       "      <td>2014-10-16</td>\n",
       "    </tr>\n",
       "    <tr>\n",
       "      <th rowspan=\"3\" valign=\"top\">2014-12</th>\n",
       "      <th>call</th>\n",
       "      <td>13561.000</td>\n",
       "      <td>79</td>\n",
       "      <td>2014-11-14</td>\n",
       "    </tr>\n",
       "    <tr>\n",
       "      <th>data</th>\n",
       "      <td>1032.870</td>\n",
       "      <td>30</td>\n",
       "      <td>2014-11-13</td>\n",
       "    </tr>\n",
       "    <tr>\n",
       "      <th>sms</th>\n",
       "      <td>48.000</td>\n",
       "      <td>48</td>\n",
       "      <td>2014-11-14</td>\n",
       "    </tr>\n",
       "    <tr>\n",
       "      <th rowspan=\"3\" valign=\"top\">2015-01</th>\n",
       "      <th>call</th>\n",
       "      <td>17070.000</td>\n",
       "      <td>88</td>\n",
       "      <td>2014-12-15</td>\n",
       "    </tr>\n",
       "    <tr>\n",
       "      <th>data</th>\n",
       "      <td>1067.299</td>\n",
       "      <td>31</td>\n",
       "      <td>2014-12-13</td>\n",
       "    </tr>\n",
       "    <tr>\n",
       "      <th>sms</th>\n",
       "      <td>86.000</td>\n",
       "      <td>86</td>\n",
       "      <td>2014-12-15</td>\n",
       "    </tr>\n",
       "    <tr>\n",
       "      <th rowspan=\"3\" valign=\"top\">2015-02</th>\n",
       "      <th>call</th>\n",
       "      <td>14416.000</td>\n",
       "      <td>67</td>\n",
       "      <td>2015-01-15</td>\n",
       "    </tr>\n",
       "    <tr>\n",
       "      <th>data</th>\n",
       "      <td>1067.299</td>\n",
       "      <td>31</td>\n",
       "      <td>2015-01-13</td>\n",
       "    </tr>\n",
       "    <tr>\n",
       "      <th>sms</th>\n",
       "      <td>39.000</td>\n",
       "      <td>39</td>\n",
       "      <td>2015-01-15</td>\n",
       "    </tr>\n",
       "    <tr>\n",
       "      <th rowspan=\"3\" valign=\"top\">2015-03</th>\n",
       "      <th>call</th>\n",
       "      <td>21727.000</td>\n",
       "      <td>47</td>\n",
       "      <td>2015-02-12</td>\n",
       "    </tr>\n",
       "    <tr>\n",
       "      <th>data</th>\n",
       "      <td>998.441</td>\n",
       "      <td>29</td>\n",
       "      <td>2015-02-13</td>\n",
       "    </tr>\n",
       "    <tr>\n",
       "      <th>sms</th>\n",
       "      <td>25.000</td>\n",
       "      <td>25</td>\n",
       "      <td>2015-02-19</td>\n",
       "    </tr>\n",
       "  </tbody>\n",
       "</table>\n",
       "</div>"
      ],
      "text/plain": [
       "               duration  network_type       date\n",
       "month   item                                    \n",
       "2014-11 call  25547.000           107 2014-10-15\n",
       "        data    998.441            29 2014-10-15\n",
       "        sms      94.000            94 2014-10-16\n",
       "2014-12 call  13561.000            79 2014-11-14\n",
       "        data   1032.870            30 2014-11-13\n",
       "        sms      48.000            48 2014-11-14\n",
       "2015-01 call  17070.000            88 2014-12-15\n",
       "        data   1067.299            31 2014-12-13\n",
       "        sms      86.000            86 2014-12-15\n",
       "2015-02 call  14416.000            67 2015-01-15\n",
       "        data   1067.299            31 2015-01-13\n",
       "        sms      39.000            39 2015-01-15\n",
       "2015-03 call  21727.000            47 2015-02-12\n",
       "        data    998.441            29 2015-02-13\n",
       "        sms      25.000            25 2015-02-19"
      ]
     },
     "execution_count": 49,
     "metadata": {},
     "output_type": "execute_result"
    }
   ],
   "source": [
    "# Group the data frame by month and item and extract a number of stats from each group\n",
    "df.groupby(['month', 'item']).agg({'duration':sum,      # find the sum of the durations for each group\n",
    "                                     'network_type': \"count\", # find the number of network type entries\n",
    "                                     'date': 'first'})    # get the first date per group"
   ]
  },
  {
   "cell_type": "code",
   "execution_count": 52,
   "metadata": {
    "collapsed": false
   },
   "outputs": [
    {
     "data": {
      "text/html": [
       "<div>\n",
       "<table border=\"1\" class=\"dataframe\">\n",
       "  <thead>\n",
       "    <tr>\n",
       "      <th></th>\n",
       "      <th></th>\n",
       "      <th colspan=\"3\" halign=\"left\">duration</th>\n",
       "      <th>network_type</th>\n",
       "      <th colspan=\"3\" halign=\"left\">date</th>\n",
       "    </tr>\n",
       "    <tr>\n",
       "      <th></th>\n",
       "      <th></th>\n",
       "      <th>min</th>\n",
       "      <th>max</th>\n",
       "      <th>sum</th>\n",
       "      <th>count</th>\n",
       "      <th>min</th>\n",
       "      <th>first</th>\n",
       "      <th>nunique</th>\n",
       "    </tr>\n",
       "    <tr>\n",
       "      <th>month</th>\n",
       "      <th>item</th>\n",
       "      <th></th>\n",
       "      <th></th>\n",
       "      <th></th>\n",
       "      <th></th>\n",
       "      <th></th>\n",
       "      <th></th>\n",
       "      <th></th>\n",
       "    </tr>\n",
       "  </thead>\n",
       "  <tbody>\n",
       "    <tr>\n",
       "      <th rowspan=\"3\" valign=\"top\">2014-11</th>\n",
       "      <th>call</th>\n",
       "      <td>1.000</td>\n",
       "      <td>1940.000</td>\n",
       "      <td>25547.000</td>\n",
       "      <td>107</td>\n",
       "      <td>2014-10-15</td>\n",
       "      <td>2014-10-15</td>\n",
       "      <td>28</td>\n",
       "    </tr>\n",
       "    <tr>\n",
       "      <th>data</th>\n",
       "      <td>34.429</td>\n",
       "      <td>34.429</td>\n",
       "      <td>998.441</td>\n",
       "      <td>29</td>\n",
       "      <td>2014-10-15</td>\n",
       "      <td>2014-10-15</td>\n",
       "      <td>29</td>\n",
       "    </tr>\n",
       "    <tr>\n",
       "      <th>sms</th>\n",
       "      <td>1.000</td>\n",
       "      <td>1.000</td>\n",
       "      <td>94.000</td>\n",
       "      <td>94</td>\n",
       "      <td>2014-10-16</td>\n",
       "      <td>2014-10-16</td>\n",
       "      <td>17</td>\n",
       "    </tr>\n",
       "    <tr>\n",
       "      <th rowspan=\"3\" valign=\"top\">2014-12</th>\n",
       "      <th>call</th>\n",
       "      <td>2.000</td>\n",
       "      <td>2120.000</td>\n",
       "      <td>13561.000</td>\n",
       "      <td>79</td>\n",
       "      <td>2014-11-14</td>\n",
       "      <td>2014-11-14</td>\n",
       "      <td>25</td>\n",
       "    </tr>\n",
       "    <tr>\n",
       "      <th>data</th>\n",
       "      <td>34.429</td>\n",
       "      <td>34.429</td>\n",
       "      <td>1032.870</td>\n",
       "      <td>30</td>\n",
       "      <td>2014-11-13</td>\n",
       "      <td>2014-11-13</td>\n",
       "      <td>30</td>\n",
       "    </tr>\n",
       "    <tr>\n",
       "      <th>sms</th>\n",
       "      <td>1.000</td>\n",
       "      <td>1.000</td>\n",
       "      <td>48.000</td>\n",
       "      <td>48</td>\n",
       "      <td>2014-11-14</td>\n",
       "      <td>2014-11-14</td>\n",
       "      <td>14</td>\n",
       "    </tr>\n",
       "    <tr>\n",
       "      <th rowspan=\"3\" valign=\"top\">2015-01</th>\n",
       "      <th>call</th>\n",
       "      <td>2.000</td>\n",
       "      <td>1859.000</td>\n",
       "      <td>17070.000</td>\n",
       "      <td>88</td>\n",
       "      <td>2014-12-15</td>\n",
       "      <td>2014-12-15</td>\n",
       "      <td>24</td>\n",
       "    </tr>\n",
       "    <tr>\n",
       "      <th>data</th>\n",
       "      <td>34.429</td>\n",
       "      <td>34.429</td>\n",
       "      <td>1067.299</td>\n",
       "      <td>31</td>\n",
       "      <td>2014-12-13</td>\n",
       "      <td>2014-12-13</td>\n",
       "      <td>31</td>\n",
       "    </tr>\n",
       "    <tr>\n",
       "      <th>sms</th>\n",
       "      <td>1.000</td>\n",
       "      <td>1.000</td>\n",
       "      <td>86.000</td>\n",
       "      <td>86</td>\n",
       "      <td>2014-12-15</td>\n",
       "      <td>2014-12-15</td>\n",
       "      <td>23</td>\n",
       "    </tr>\n",
       "    <tr>\n",
       "      <th rowspan=\"3\" valign=\"top\">2015-02</th>\n",
       "      <th>call</th>\n",
       "      <td>1.000</td>\n",
       "      <td>1863.000</td>\n",
       "      <td>14416.000</td>\n",
       "      <td>67</td>\n",
       "      <td>2015-01-15</td>\n",
       "      <td>2015-01-15</td>\n",
       "      <td>24</td>\n",
       "    </tr>\n",
       "    <tr>\n",
       "      <th>data</th>\n",
       "      <td>34.429</td>\n",
       "      <td>34.429</td>\n",
       "      <td>1067.299</td>\n",
       "      <td>31</td>\n",
       "      <td>2015-01-13</td>\n",
       "      <td>2015-01-13</td>\n",
       "      <td>31</td>\n",
       "    </tr>\n",
       "    <tr>\n",
       "      <th>sms</th>\n",
       "      <td>1.000</td>\n",
       "      <td>1.000</td>\n",
       "      <td>39.000</td>\n",
       "      <td>39</td>\n",
       "      <td>2015-01-15</td>\n",
       "      <td>2015-01-15</td>\n",
       "      <td>12</td>\n",
       "    </tr>\n",
       "    <tr>\n",
       "      <th rowspan=\"3\" valign=\"top\">2015-03</th>\n",
       "      <th>call</th>\n",
       "      <td>2.000</td>\n",
       "      <td>10528.000</td>\n",
       "      <td>21727.000</td>\n",
       "      <td>47</td>\n",
       "      <td>2015-02-12</td>\n",
       "      <td>2015-02-12</td>\n",
       "      <td>17</td>\n",
       "    </tr>\n",
       "    <tr>\n",
       "      <th>data</th>\n",
       "      <td>34.429</td>\n",
       "      <td>34.429</td>\n",
       "      <td>998.441</td>\n",
       "      <td>29</td>\n",
       "      <td>2015-02-13</td>\n",
       "      <td>2015-02-13</td>\n",
       "      <td>29</td>\n",
       "    </tr>\n",
       "    <tr>\n",
       "      <th>sms</th>\n",
       "      <td>1.000</td>\n",
       "      <td>1.000</td>\n",
       "      <td>25.000</td>\n",
       "      <td>25</td>\n",
       "      <td>2015-02-19</td>\n",
       "      <td>2015-02-19</td>\n",
       "      <td>8</td>\n",
       "    </tr>\n",
       "  </tbody>\n",
       "</table>\n",
       "</div>"
      ],
      "text/plain": [
       "             duration                       network_type       date  \\\n",
       "                  min        max        sum        count        min   \n",
       "month   item                                                          \n",
       "2014-11 call    1.000   1940.000  25547.000          107 2014-10-15   \n",
       "        data   34.429     34.429    998.441           29 2014-10-15   \n",
       "        sms     1.000      1.000     94.000           94 2014-10-16   \n",
       "2014-12 call    2.000   2120.000  13561.000           79 2014-11-14   \n",
       "        data   34.429     34.429   1032.870           30 2014-11-13   \n",
       "        sms     1.000      1.000     48.000           48 2014-11-14   \n",
       "2015-01 call    2.000   1859.000  17070.000           88 2014-12-15   \n",
       "        data   34.429     34.429   1067.299           31 2014-12-13   \n",
       "        sms     1.000      1.000     86.000           86 2014-12-15   \n",
       "2015-02 call    1.000   1863.000  14416.000           67 2015-01-15   \n",
       "        data   34.429     34.429   1067.299           31 2015-01-13   \n",
       "        sms     1.000      1.000     39.000           39 2015-01-15   \n",
       "2015-03 call    2.000  10528.000  21727.000           47 2015-02-12   \n",
       "        data   34.429     34.429    998.441           29 2015-02-13   \n",
       "        sms     1.000      1.000     25.000           25 2015-02-19   \n",
       "\n",
       "                                 \n",
       "                  first nunique  \n",
       "month   item                     \n",
       "2014-11 call 2014-10-15      28  \n",
       "        data 2014-10-15      29  \n",
       "        sms  2014-10-16      17  \n",
       "2014-12 call 2014-11-14      25  \n",
       "        data 2014-11-13      30  \n",
       "        sms  2014-11-14      14  \n",
       "2015-01 call 2014-12-15      24  \n",
       "        data 2014-12-13      31  \n",
       "        sms  2014-12-15      23  \n",
       "2015-02 call 2015-01-15      24  \n",
       "        data 2015-01-13      31  \n",
       "        sms  2015-01-15      12  \n",
       "2015-03 call 2015-02-12      17  \n",
       "        data 2015-02-13      29  \n",
       "        sms  2015-02-19       8  "
      ]
     },
     "execution_count": 52,
     "metadata": {},
     "output_type": "execute_result"
    }
   ],
   "source": [
    "# Group the data frame by month and item and extract a number of stats from each group\n",
    "df.groupby(['month', 'item']).agg({'duration': [min, max, sum],      # find the min, max, and sum of the duration column\n",
    "    'network_type': \"count\", # find the number of network type entries\n",
    "    'date': [min, 'first', 'nunique']})    # get the min, first, and number of unique dates per group"
   ]
  },
  {
   "cell_type": "code",
   "execution_count": null,
   "metadata": {
    "collapsed": true
   },
   "outputs": [],
   "source": []
  }
 ],
 "metadata": {
  "kernelspec": {
   "display_name": "Python [conda env:Anaconda3]",
   "language": "python",
   "name": "conda-env-Anaconda3-py"
  },
  "language_info": {
   "codemirror_mode": {
    "name": "ipython",
    "version": 3
   },
   "file_extension": ".py",
   "mimetype": "text/x-python",
   "name": "python",
   "nbconvert_exporter": "python",
   "pygments_lexer": "ipython3",
   "version": "3.5.2"
  }
 },
 "nbformat": 4,
 "nbformat_minor": 1
}
